{
 "cells": [
  {
   "cell_type": "code",
   "execution_count": 1,
   "id": "de355aa4",
   "metadata": {
    "_cell_guid": "b1076dfc-b9ad-4769-8c92-a6c4dae69d19",
    "_uuid": "8f2839f25d086af736a60e9eeb907d3b93b6e0e5",
    "execution": {
     "iopub.execute_input": "2022-09-23T11:45:56.349622Z",
     "iopub.status.busy": "2022-09-23T11:45:56.349090Z",
     "iopub.status.idle": "2022-09-23T11:45:56.383543Z",
     "shell.execute_reply": "2022-09-23T11:45:56.374322Z"
    },
    "papermill": {
     "duration": 0.049373,
     "end_time": "2022-09-23T11:45:56.387117",
     "exception": false,
     "start_time": "2022-09-23T11:45:56.337744",
     "status": "completed"
    },
    "tags": []
   },
   "outputs": [
    {
     "name": "stdout",
     "output_type": "stream",
     "text": [
      "/kaggle/input/ecommerce-purchases/Ecommerce Purchases\n"
     ]
    }
   ],
   "source": [
    "# This Python 3 environment comes with many helpful analytics libraries installed\n",
    "# It is defined by the kaggle/python Docker image: https://github.com/kaggle/docker-python\n",
    "# For example, here's several helpful packages to load\n",
    "\n",
    "import numpy as np # linear algebra\n",
    "import pandas as pd # data processing, CSV file I/O (e.g. pd.read_csv)\n",
    "\n",
    "# Input data files are available in the read-only \"../input/\" directory\n",
    "# For example, running this (by clicking run or pressing Shift+Enter) will list all files under the input directory\n",
    "\n",
    "import os\n",
    "for dirname, _, filenames in os.walk('/kaggle/input'):\n",
    "    for filename in filenames:\n",
    "        print(os.path.join(dirname, filename))\n",
    "\n",
    "# You can write up to 20GB to the current directory (/kaggle/working/) that gets preserved as output when you create a version using \"Save & Run All\" \n",
    "# You can also write temporary files to /kaggle/temp/, but they won't be saved outside of the current session"
   ]
  },
  {
   "cell_type": "code",
   "execution_count": 2,
   "id": "18d48d3d",
   "metadata": {
    "execution": {
     "iopub.execute_input": "2022-09-23T11:45:56.407679Z",
     "iopub.status.busy": "2022-09-23T11:45:56.406785Z",
     "iopub.status.idle": "2022-09-23T11:45:56.540054Z",
     "shell.execute_reply": "2022-09-23T11:45:56.538818Z"
    },
    "papermill": {
     "duration": 0.146466,
     "end_time": "2022-09-23T11:45:56.543531",
     "exception": false,
     "start_time": "2022-09-23T11:45:56.397065",
     "status": "completed"
    },
    "tags": []
   },
   "outputs": [],
   "source": [
    "df = pd.read_csv(\"../input/ecommerce-purchases/Ecommerce Purchases\")"
   ]
  },
  {
   "cell_type": "markdown",
   "id": "e66c992b",
   "metadata": {
    "papermill": {
     "duration": 0.008844,
     "end_time": "2022-09-23T11:45:56.565364",
     "exception": false,
     "start_time": "2022-09-23T11:45:56.556520",
     "status": "completed"
    },
    "tags": []
   },
   "source": [
    "### 1. Top 10 rows"
   ]
  },
  {
   "cell_type": "code",
   "execution_count": 3,
   "id": "3bc84366",
   "metadata": {
    "execution": {
     "iopub.execute_input": "2022-09-23T11:45:56.585088Z",
     "iopub.status.busy": "2022-09-23T11:45:56.584183Z",
     "iopub.status.idle": "2022-09-23T11:45:56.621042Z",
     "shell.execute_reply": "2022-09-23T11:45:56.619551Z"
    },
    "papermill": {
     "duration": 0.049848,
     "end_time": "2022-09-23T11:45:56.624063",
     "exception": false,
     "start_time": "2022-09-23T11:45:56.574215",
     "status": "completed"
    },
    "tags": []
   },
   "outputs": [
    {
     "data": {
      "text/html": [
       "<div>\n",
       "<style scoped>\n",
       "    .dataframe tbody tr th:only-of-type {\n",
       "        vertical-align: middle;\n",
       "    }\n",
       "\n",
       "    .dataframe tbody tr th {\n",
       "        vertical-align: top;\n",
       "    }\n",
       "\n",
       "    .dataframe thead th {\n",
       "        text-align: right;\n",
       "    }\n",
       "</style>\n",
       "<table border=\"1\" class=\"dataframe\">\n",
       "  <thead>\n",
       "    <tr style=\"text-align: right;\">\n",
       "      <th></th>\n",
       "      <th>Address</th>\n",
       "      <th>Lot</th>\n",
       "      <th>AM or PM</th>\n",
       "      <th>Browser Info</th>\n",
       "      <th>Company</th>\n",
       "      <th>Credit Card</th>\n",
       "      <th>CC Exp Date</th>\n",
       "      <th>CC Security Code</th>\n",
       "      <th>CC Provider</th>\n",
       "      <th>Email</th>\n",
       "      <th>Job</th>\n",
       "      <th>IP Address</th>\n",
       "      <th>Language</th>\n",
       "      <th>Purchase Price</th>\n",
       "    </tr>\n",
       "  </thead>\n",
       "  <tbody>\n",
       "    <tr>\n",
       "      <th>0</th>\n",
       "      <td>16629 Pace Camp Apt. 448\\nAlexisborough, NE 77...</td>\n",
       "      <td>46 in</td>\n",
       "      <td>PM</td>\n",
       "      <td>Opera/9.56.(X11; Linux x86_64; sl-SI) Presto/2...</td>\n",
       "      <td>Martinez-Herman</td>\n",
       "      <td>6011929061123406</td>\n",
       "      <td>02/20</td>\n",
       "      <td>900</td>\n",
       "      <td>JCB 16 digit</td>\n",
       "      <td>pdunlap@yahoo.com</td>\n",
       "      <td>Scientist, product/process development</td>\n",
       "      <td>149.146.147.205</td>\n",
       "      <td>el</td>\n",
       "      <td>98.14</td>\n",
       "    </tr>\n",
       "    <tr>\n",
       "      <th>1</th>\n",
       "      <td>9374 Jasmine Spurs Suite 508\\nSouth John, TN 8...</td>\n",
       "      <td>28 rn</td>\n",
       "      <td>PM</td>\n",
       "      <td>Opera/8.93.(Windows 98; Win 9x 4.90; en-US) Pr...</td>\n",
       "      <td>Fletcher, Richards and Whitaker</td>\n",
       "      <td>3337758169645356</td>\n",
       "      <td>11/18</td>\n",
       "      <td>561</td>\n",
       "      <td>Mastercard</td>\n",
       "      <td>anthony41@reed.com</td>\n",
       "      <td>Drilling engineer</td>\n",
       "      <td>15.160.41.51</td>\n",
       "      <td>fr</td>\n",
       "      <td>70.73</td>\n",
       "    </tr>\n",
       "    <tr>\n",
       "      <th>2</th>\n",
       "      <td>Unit 0065 Box 5052\\nDPO AP 27450</td>\n",
       "      <td>94 vE</td>\n",
       "      <td>PM</td>\n",
       "      <td>Mozilla/5.0 (compatible; MSIE 9.0; Windows NT ...</td>\n",
       "      <td>Simpson, Williams and Pham</td>\n",
       "      <td>675957666125</td>\n",
       "      <td>08/19</td>\n",
       "      <td>699</td>\n",
       "      <td>JCB 16 digit</td>\n",
       "      <td>amymiller@morales-harrison.com</td>\n",
       "      <td>Customer service manager</td>\n",
       "      <td>132.207.160.22</td>\n",
       "      <td>de</td>\n",
       "      <td>0.95</td>\n",
       "    </tr>\n",
       "    <tr>\n",
       "      <th>3</th>\n",
       "      <td>7780 Julia Fords\\nNew Stacy, WA 45798</td>\n",
       "      <td>36 vm</td>\n",
       "      <td>PM</td>\n",
       "      <td>Mozilla/5.0 (Macintosh; Intel Mac OS X 10_8_0 ...</td>\n",
       "      <td>Williams, Marshall and Buchanan</td>\n",
       "      <td>6011578504430710</td>\n",
       "      <td>02/24</td>\n",
       "      <td>384</td>\n",
       "      <td>Discover</td>\n",
       "      <td>brent16@olson-robinson.info</td>\n",
       "      <td>Drilling engineer</td>\n",
       "      <td>30.250.74.19</td>\n",
       "      <td>es</td>\n",
       "      <td>78.04</td>\n",
       "    </tr>\n",
       "    <tr>\n",
       "      <th>4</th>\n",
       "      <td>23012 Munoz Drive Suite 337\\nNew Cynthia, TX 5...</td>\n",
       "      <td>20 IE</td>\n",
       "      <td>AM</td>\n",
       "      <td>Opera/9.58.(X11; Linux x86_64; it-IT) Presto/2...</td>\n",
       "      <td>Brown, Watson and Andrews</td>\n",
       "      <td>6011456623207998</td>\n",
       "      <td>10/25</td>\n",
       "      <td>678</td>\n",
       "      <td>Diners Club / Carte Blanche</td>\n",
       "      <td>christopherwright@gmail.com</td>\n",
       "      <td>Fine artist</td>\n",
       "      <td>24.140.33.94</td>\n",
       "      <td>es</td>\n",
       "      <td>77.82</td>\n",
       "    </tr>\n",
       "    <tr>\n",
       "      <th>5</th>\n",
       "      <td>7502 Powell Mission Apt. 768\\nTravisland, VA 3...</td>\n",
       "      <td>21 XT</td>\n",
       "      <td>PM</td>\n",
       "      <td>Mozilla/5.0 (Macintosh; U; PPC Mac OS X 10_8_5...</td>\n",
       "      <td>Silva-Anderson</td>\n",
       "      <td>30246185196287</td>\n",
       "      <td>07/25</td>\n",
       "      <td>7169</td>\n",
       "      <td>Discover</td>\n",
       "      <td>ynguyen@gmail.com</td>\n",
       "      <td>Fish farm manager</td>\n",
       "      <td>55.96.152.147</td>\n",
       "      <td>ru</td>\n",
       "      <td>25.15</td>\n",
       "    </tr>\n",
       "    <tr>\n",
       "      <th>6</th>\n",
       "      <td>93971 Conway Causeway\\nAndersonburgh, AZ 75107</td>\n",
       "      <td>96 Xt</td>\n",
       "      <td>AM</td>\n",
       "      <td>Mozilla/5.0 (compatible; MSIE 7.0; Windows NT ...</td>\n",
       "      <td>Gibson and Sons</td>\n",
       "      <td>6011398782655569</td>\n",
       "      <td>07/24</td>\n",
       "      <td>714</td>\n",
       "      <td>VISA 16 digit</td>\n",
       "      <td>olivia04@yahoo.com</td>\n",
       "      <td>Dancer</td>\n",
       "      <td>127.252.144.18</td>\n",
       "      <td>de</td>\n",
       "      <td>88.56</td>\n",
       "    </tr>\n",
       "    <tr>\n",
       "      <th>7</th>\n",
       "      <td>260 Rachel Plains Suite 366\\nCastroberg, WV 24...</td>\n",
       "      <td>96 pG</td>\n",
       "      <td>PM</td>\n",
       "      <td>Mozilla/5.0 (X11; Linux i686) AppleWebKit/5350...</td>\n",
       "      <td>Marshall-Collins</td>\n",
       "      <td>561252141909</td>\n",
       "      <td>06/25</td>\n",
       "      <td>256</td>\n",
       "      <td>VISA 13 digit</td>\n",
       "      <td>phillip48@parks.info</td>\n",
       "      <td>Event organiser</td>\n",
       "      <td>224.247.97.150</td>\n",
       "      <td>pt</td>\n",
       "      <td>44.25</td>\n",
       "    </tr>\n",
       "    <tr>\n",
       "      <th>8</th>\n",
       "      <td>2129 Dylan Burg\\nNew Michelle, ME 28650</td>\n",
       "      <td>45 JN</td>\n",
       "      <td>PM</td>\n",
       "      <td>Mozilla/5.0 (Macintosh; U; Intel Mac OS X 10_7...</td>\n",
       "      <td>Galloway and Sons</td>\n",
       "      <td>180041795790001</td>\n",
       "      <td>04/24</td>\n",
       "      <td>899</td>\n",
       "      <td>JCB 16 digit</td>\n",
       "      <td>kdavis@rasmussen.com</td>\n",
       "      <td>Financial manager</td>\n",
       "      <td>146.234.201.229</td>\n",
       "      <td>ru</td>\n",
       "      <td>59.54</td>\n",
       "    </tr>\n",
       "    <tr>\n",
       "      <th>9</th>\n",
       "      <td>3795 Dawson Extensions\\nLake Tinafort, ID 88739</td>\n",
       "      <td>15 Ug</td>\n",
       "      <td>AM</td>\n",
       "      <td>Mozilla/5.0 (X11; Linux i686; rv:1.9.7.20) Gec...</td>\n",
       "      <td>Rivera, Buchanan and Ramirez</td>\n",
       "      <td>4396283918371</td>\n",
       "      <td>01/17</td>\n",
       "      <td>931</td>\n",
       "      <td>American Express</td>\n",
       "      <td>qcoleman@hunt-huerta.com</td>\n",
       "      <td>Forensic scientist</td>\n",
       "      <td>236.198.199.8</td>\n",
       "      <td>zh</td>\n",
       "      <td>95.63</td>\n",
       "    </tr>\n",
       "  </tbody>\n",
       "</table>\n",
       "</div>"
      ],
      "text/plain": [
       "                                             Address    Lot AM or PM  \\\n",
       "0  16629 Pace Camp Apt. 448\\nAlexisborough, NE 77...  46 in       PM   \n",
       "1  9374 Jasmine Spurs Suite 508\\nSouth John, TN 8...  28 rn       PM   \n",
       "2                   Unit 0065 Box 5052\\nDPO AP 27450  94 vE       PM   \n",
       "3              7780 Julia Fords\\nNew Stacy, WA 45798  36 vm       PM   \n",
       "4  23012 Munoz Drive Suite 337\\nNew Cynthia, TX 5...  20 IE       AM   \n",
       "5  7502 Powell Mission Apt. 768\\nTravisland, VA 3...  21 XT       PM   \n",
       "6     93971 Conway Causeway\\nAndersonburgh, AZ 75107  96 Xt       AM   \n",
       "7  260 Rachel Plains Suite 366\\nCastroberg, WV 24...  96 pG       PM   \n",
       "8            2129 Dylan Burg\\nNew Michelle, ME 28650  45 JN       PM   \n",
       "9    3795 Dawson Extensions\\nLake Tinafort, ID 88739  15 Ug       AM   \n",
       "\n",
       "                                        Browser Info  \\\n",
       "0  Opera/9.56.(X11; Linux x86_64; sl-SI) Presto/2...   \n",
       "1  Opera/8.93.(Windows 98; Win 9x 4.90; en-US) Pr...   \n",
       "2  Mozilla/5.0 (compatible; MSIE 9.0; Windows NT ...   \n",
       "3  Mozilla/5.0 (Macintosh; Intel Mac OS X 10_8_0 ...   \n",
       "4  Opera/9.58.(X11; Linux x86_64; it-IT) Presto/2...   \n",
       "5  Mozilla/5.0 (Macintosh; U; PPC Mac OS X 10_8_5...   \n",
       "6  Mozilla/5.0 (compatible; MSIE 7.0; Windows NT ...   \n",
       "7  Mozilla/5.0 (X11; Linux i686) AppleWebKit/5350...   \n",
       "8  Mozilla/5.0 (Macintosh; U; Intel Mac OS X 10_7...   \n",
       "9  Mozilla/5.0 (X11; Linux i686; rv:1.9.7.20) Gec...   \n",
       "\n",
       "                           Company       Credit Card CC Exp Date  \\\n",
       "0                  Martinez-Herman  6011929061123406       02/20   \n",
       "1  Fletcher, Richards and Whitaker  3337758169645356       11/18   \n",
       "2       Simpson, Williams and Pham      675957666125       08/19   \n",
       "3  Williams, Marshall and Buchanan  6011578504430710       02/24   \n",
       "4        Brown, Watson and Andrews  6011456623207998       10/25   \n",
       "5                   Silva-Anderson    30246185196287       07/25   \n",
       "6                  Gibson and Sons  6011398782655569       07/24   \n",
       "7                 Marshall-Collins      561252141909       06/25   \n",
       "8                Galloway and Sons   180041795790001       04/24   \n",
       "9     Rivera, Buchanan and Ramirez     4396283918371       01/17   \n",
       "\n",
       "   CC Security Code                  CC Provider  \\\n",
       "0               900                 JCB 16 digit   \n",
       "1               561                   Mastercard   \n",
       "2               699                 JCB 16 digit   \n",
       "3               384                     Discover   \n",
       "4               678  Diners Club / Carte Blanche   \n",
       "5              7169                     Discover   \n",
       "6               714                VISA 16 digit   \n",
       "7               256                VISA 13 digit   \n",
       "8               899                 JCB 16 digit   \n",
       "9               931             American Express   \n",
       "\n",
       "                            Email                                     Job  \\\n",
       "0               pdunlap@yahoo.com  Scientist, product/process development   \n",
       "1              anthony41@reed.com                       Drilling engineer   \n",
       "2  amymiller@morales-harrison.com                Customer service manager   \n",
       "3     brent16@olson-robinson.info                       Drilling engineer   \n",
       "4     christopherwright@gmail.com                             Fine artist   \n",
       "5               ynguyen@gmail.com                       Fish farm manager   \n",
       "6              olivia04@yahoo.com                                  Dancer   \n",
       "7            phillip48@parks.info                         Event organiser   \n",
       "8            kdavis@rasmussen.com                       Financial manager   \n",
       "9        qcoleman@hunt-huerta.com                      Forensic scientist   \n",
       "\n",
       "        IP Address Language  Purchase Price  \n",
       "0  149.146.147.205       el           98.14  \n",
       "1     15.160.41.51       fr           70.73  \n",
       "2   132.207.160.22       de            0.95  \n",
       "3     30.250.74.19       es           78.04  \n",
       "4     24.140.33.94       es           77.82  \n",
       "5    55.96.152.147       ru           25.15  \n",
       "6   127.252.144.18       de           88.56  \n",
       "7   224.247.97.150       pt           44.25  \n",
       "8  146.234.201.229       ru           59.54  \n",
       "9    236.198.199.8       zh           95.63  "
      ]
     },
     "execution_count": 3,
     "metadata": {},
     "output_type": "execute_result"
    }
   ],
   "source": [
    "df.head(10)"
   ]
  },
  {
   "cell_type": "markdown",
   "id": "3adef5ad",
   "metadata": {
    "papermill": {
     "duration": 0.008629,
     "end_time": "2022-09-23T11:45:56.642409",
     "exception": false,
     "start_time": "2022-09-23T11:45:56.633780",
     "status": "completed"
    },
    "tags": []
   },
   "source": [
    "### 2. Bottom 10 rows."
   ]
  },
  {
   "cell_type": "code",
   "execution_count": 4,
   "id": "7a6d96a7",
   "metadata": {
    "execution": {
     "iopub.execute_input": "2022-09-23T11:45:56.663552Z",
     "iopub.status.busy": "2022-09-23T11:45:56.663118Z",
     "iopub.status.idle": "2022-09-23T11:45:56.684891Z",
     "shell.execute_reply": "2022-09-23T11:45:56.683652Z"
    },
    "papermill": {
     "duration": 0.03429,
     "end_time": "2022-09-23T11:45:56.687238",
     "exception": false,
     "start_time": "2022-09-23T11:45:56.652948",
     "status": "completed"
    },
    "tags": []
   },
   "outputs": [
    {
     "data": {
      "text/html": [
       "<div>\n",
       "<style scoped>\n",
       "    .dataframe tbody tr th:only-of-type {\n",
       "        vertical-align: middle;\n",
       "    }\n",
       "\n",
       "    .dataframe tbody tr th {\n",
       "        vertical-align: top;\n",
       "    }\n",
       "\n",
       "    .dataframe thead th {\n",
       "        text-align: right;\n",
       "    }\n",
       "</style>\n",
       "<table border=\"1\" class=\"dataframe\">\n",
       "  <thead>\n",
       "    <tr style=\"text-align: right;\">\n",
       "      <th></th>\n",
       "      <th>Address</th>\n",
       "      <th>Lot</th>\n",
       "      <th>AM or PM</th>\n",
       "      <th>Browser Info</th>\n",
       "      <th>Company</th>\n",
       "      <th>Credit Card</th>\n",
       "      <th>CC Exp Date</th>\n",
       "      <th>CC Security Code</th>\n",
       "      <th>CC Provider</th>\n",
       "      <th>Email</th>\n",
       "      <th>Job</th>\n",
       "      <th>IP Address</th>\n",
       "      <th>Language</th>\n",
       "      <th>Purchase Price</th>\n",
       "    </tr>\n",
       "  </thead>\n",
       "  <tbody>\n",
       "    <tr>\n",
       "      <th>9990</th>\n",
       "      <td>75731 Molly Springs\\nWest Danielle, VT 96934-5102</td>\n",
       "      <td>93 ty</td>\n",
       "      <td>PM</td>\n",
       "      <td>Mozilla/5.0 (Macintosh; Intel Mac OS X 10_7_4;...</td>\n",
       "      <td>Pace, Vazquez and Richards</td>\n",
       "      <td>869968197049750</td>\n",
       "      <td>04/24</td>\n",
       "      <td>877</td>\n",
       "      <td>JCB 15 digit</td>\n",
       "      <td>andersonmichael@sherman.biz</td>\n",
       "      <td>Early years teacher</td>\n",
       "      <td>54.170.3.185</td>\n",
       "      <td>ru</td>\n",
       "      <td>18.35</td>\n",
       "    </tr>\n",
       "    <tr>\n",
       "      <th>9991</th>\n",
       "      <td>PSC 8165, Box 8498\\nAPO AP 60327-0346</td>\n",
       "      <td>50 dA</td>\n",
       "      <td>AM</td>\n",
       "      <td>Mozilla/5.0 (compatible; MSIE 8.0; Windows NT ...</td>\n",
       "      <td>Snyder Inc</td>\n",
       "      <td>4221582137197481</td>\n",
       "      <td>02/24</td>\n",
       "      <td>969</td>\n",
       "      <td>Voyager</td>\n",
       "      <td>kking@wise-liu.com</td>\n",
       "      <td>IT sales professional</td>\n",
       "      <td>254.25.31.156</td>\n",
       "      <td>el</td>\n",
       "      <td>25.93</td>\n",
       "    </tr>\n",
       "    <tr>\n",
       "      <th>9992</th>\n",
       "      <td>885 Allen Mountains Apt. 230\\nWallhaven, LA 16995</td>\n",
       "      <td>40 vH</td>\n",
       "      <td>PM</td>\n",
       "      <td>Mozilla/5.0 (Macintosh; PPC Mac OS X 10_6_5) A...</td>\n",
       "      <td>Wells Ltd</td>\n",
       "      <td>4664825258997302</td>\n",
       "      <td>10/20</td>\n",
       "      <td>431</td>\n",
       "      <td>Discover</td>\n",
       "      <td>bberry@wright.net</td>\n",
       "      <td>Set designer</td>\n",
       "      <td>174.173.51.32</td>\n",
       "      <td>de</td>\n",
       "      <td>67.96</td>\n",
       "    </tr>\n",
       "    <tr>\n",
       "      <th>9993</th>\n",
       "      <td>7555 Larson Locks Suite 229\\nEllisburgh, MA 34...</td>\n",
       "      <td>72 jg</td>\n",
       "      <td>PM</td>\n",
       "      <td>Mozilla/5.0 (Macintosh; U; Intel Mac OS X 10_8...</td>\n",
       "      <td>Colon and Sons</td>\n",
       "      <td>30025560104631</td>\n",
       "      <td>10/25</td>\n",
       "      <td>629</td>\n",
       "      <td>Maestro</td>\n",
       "      <td>chelseawilliams@lopez.biz</td>\n",
       "      <td>Designer, exhibition/display</td>\n",
       "      <td>177.46.82.128</td>\n",
       "      <td>el</td>\n",
       "      <td>65.61</td>\n",
       "    </tr>\n",
       "    <tr>\n",
       "      <th>9994</th>\n",
       "      <td>6276 Rojas Hollow\\nLake Louis, WY 56410-7837</td>\n",
       "      <td>93 Ex</td>\n",
       "      <td>PM</td>\n",
       "      <td>Opera/9.68.(X11; Linux x86_64; sl-SI) Presto/2...</td>\n",
       "      <td>Ritter-Smith</td>\n",
       "      <td>3112186784121077</td>\n",
       "      <td>01/25</td>\n",
       "      <td>1823</td>\n",
       "      <td>Maestro</td>\n",
       "      <td>iroberts@gmail.com</td>\n",
       "      <td>Education officer, museum</td>\n",
       "      <td>242.44.112.18</td>\n",
       "      <td>zh</td>\n",
       "      <td>31.85</td>\n",
       "    </tr>\n",
       "    <tr>\n",
       "      <th>9995</th>\n",
       "      <td>966 Castaneda Locks\\nWest Juliafurt, CO 96415</td>\n",
       "      <td>92 XI</td>\n",
       "      <td>PM</td>\n",
       "      <td>Mozilla/5.0 (Windows NT 5.1) AppleWebKit/5352 ...</td>\n",
       "      <td>Randall-Sloan</td>\n",
       "      <td>342945015358701</td>\n",
       "      <td>03/22</td>\n",
       "      <td>838</td>\n",
       "      <td>JCB 15 digit</td>\n",
       "      <td>iscott@wade-garner.com</td>\n",
       "      <td>Printmaker</td>\n",
       "      <td>29.73.197.114</td>\n",
       "      <td>it</td>\n",
       "      <td>82.21</td>\n",
       "    </tr>\n",
       "    <tr>\n",
       "      <th>9996</th>\n",
       "      <td>832 Curtis Dam Suite 785\\nNorth Edwardburgh, T...</td>\n",
       "      <td>41 JY</td>\n",
       "      <td>AM</td>\n",
       "      <td>Mozilla/5.0 (compatible; MSIE 9.0; Windows NT ...</td>\n",
       "      <td>Hale, Collins and Wilson</td>\n",
       "      <td>210033169205009</td>\n",
       "      <td>07/25</td>\n",
       "      <td>207</td>\n",
       "      <td>JCB 16 digit</td>\n",
       "      <td>mary85@hotmail.com</td>\n",
       "      <td>Energy engineer</td>\n",
       "      <td>121.133.168.51</td>\n",
       "      <td>pt</td>\n",
       "      <td>25.63</td>\n",
       "    </tr>\n",
       "    <tr>\n",
       "      <th>9997</th>\n",
       "      <td>Unit 4434 Box 6343\\nDPO AE 28026-0283</td>\n",
       "      <td>74 Zh</td>\n",
       "      <td>AM</td>\n",
       "      <td>Mozilla/5.0 (Macintosh; U; Intel Mac OS X 10_7...</td>\n",
       "      <td>Anderson Ltd</td>\n",
       "      <td>6011539787356311</td>\n",
       "      <td>05/21</td>\n",
       "      <td>1</td>\n",
       "      <td>VISA 16 digit</td>\n",
       "      <td>tyler16@gmail.com</td>\n",
       "      <td>Veterinary surgeon</td>\n",
       "      <td>156.210.0.254</td>\n",
       "      <td>el</td>\n",
       "      <td>83.98</td>\n",
       "    </tr>\n",
       "    <tr>\n",
       "      <th>9998</th>\n",
       "      <td>0096 English Rest\\nRoystad, IA 12457</td>\n",
       "      <td>74 cL</td>\n",
       "      <td>PM</td>\n",
       "      <td>Mozilla/5.0 (Macintosh; Intel Mac OS X 10_8_8;...</td>\n",
       "      <td>Cook Inc</td>\n",
       "      <td>180003348082930</td>\n",
       "      <td>11/17</td>\n",
       "      <td>987</td>\n",
       "      <td>American Express</td>\n",
       "      <td>elizabethmoore@reid.net</td>\n",
       "      <td>Local government officer</td>\n",
       "      <td>55.78.26.143</td>\n",
       "      <td>es</td>\n",
       "      <td>38.84</td>\n",
       "    </tr>\n",
       "    <tr>\n",
       "      <th>9999</th>\n",
       "      <td>40674 Barrett Stravenue\\nGrimesville, WI 79682</td>\n",
       "      <td>64 Hr</td>\n",
       "      <td>AM</td>\n",
       "      <td>Mozilla/5.0 (X11; Linux i686; rv:1.9.5.20) Gec...</td>\n",
       "      <td>Greene Inc</td>\n",
       "      <td>4139972901927273</td>\n",
       "      <td>02/19</td>\n",
       "      <td>302</td>\n",
       "      <td>JCB 15 digit</td>\n",
       "      <td>rachelford@vaughn.com</td>\n",
       "      <td>Embryologist, clinical</td>\n",
       "      <td>176.119.198.199</td>\n",
       "      <td>el</td>\n",
       "      <td>67.59</td>\n",
       "    </tr>\n",
       "  </tbody>\n",
       "</table>\n",
       "</div>"
      ],
      "text/plain": [
       "                                                Address    Lot AM or PM  \\\n",
       "9990  75731 Molly Springs\\nWest Danielle, VT 96934-5102  93 ty       PM   \n",
       "9991              PSC 8165, Box 8498\\nAPO AP 60327-0346  50 dA       AM   \n",
       "9992  885 Allen Mountains Apt. 230\\nWallhaven, LA 16995  40 vH       PM   \n",
       "9993  7555 Larson Locks Suite 229\\nEllisburgh, MA 34...  72 jg       PM   \n",
       "9994       6276 Rojas Hollow\\nLake Louis, WY 56410-7837  93 Ex       PM   \n",
       "9995      966 Castaneda Locks\\nWest Juliafurt, CO 96415  92 XI       PM   \n",
       "9996  832 Curtis Dam Suite 785\\nNorth Edwardburgh, T...  41 JY       AM   \n",
       "9997              Unit 4434 Box 6343\\nDPO AE 28026-0283  74 Zh       AM   \n",
       "9998               0096 English Rest\\nRoystad, IA 12457  74 cL       PM   \n",
       "9999     40674 Barrett Stravenue\\nGrimesville, WI 79682  64 Hr       AM   \n",
       "\n",
       "                                           Browser Info  \\\n",
       "9990  Mozilla/5.0 (Macintosh; Intel Mac OS X 10_7_4;...   \n",
       "9991  Mozilla/5.0 (compatible; MSIE 8.0; Windows NT ...   \n",
       "9992  Mozilla/5.0 (Macintosh; PPC Mac OS X 10_6_5) A...   \n",
       "9993  Mozilla/5.0 (Macintosh; U; Intel Mac OS X 10_8...   \n",
       "9994  Opera/9.68.(X11; Linux x86_64; sl-SI) Presto/2...   \n",
       "9995  Mozilla/5.0 (Windows NT 5.1) AppleWebKit/5352 ...   \n",
       "9996  Mozilla/5.0 (compatible; MSIE 9.0; Windows NT ...   \n",
       "9997  Mozilla/5.0 (Macintosh; U; Intel Mac OS X 10_7...   \n",
       "9998  Mozilla/5.0 (Macintosh; Intel Mac OS X 10_8_8;...   \n",
       "9999  Mozilla/5.0 (X11; Linux i686; rv:1.9.5.20) Gec...   \n",
       "\n",
       "                         Company       Credit Card CC Exp Date  \\\n",
       "9990  Pace, Vazquez and Richards   869968197049750       04/24   \n",
       "9991                  Snyder Inc  4221582137197481       02/24   \n",
       "9992                   Wells Ltd  4664825258997302       10/20   \n",
       "9993              Colon and Sons    30025560104631       10/25   \n",
       "9994                Ritter-Smith  3112186784121077       01/25   \n",
       "9995               Randall-Sloan   342945015358701       03/22   \n",
       "9996    Hale, Collins and Wilson   210033169205009       07/25   \n",
       "9997                Anderson Ltd  6011539787356311       05/21   \n",
       "9998                    Cook Inc   180003348082930       11/17   \n",
       "9999                  Greene Inc  4139972901927273       02/19   \n",
       "\n",
       "      CC Security Code       CC Provider                        Email  \\\n",
       "9990               877      JCB 15 digit  andersonmichael@sherman.biz   \n",
       "9991               969           Voyager           kking@wise-liu.com   \n",
       "9992               431          Discover            bberry@wright.net   \n",
       "9993               629           Maestro    chelseawilliams@lopez.biz   \n",
       "9994              1823           Maestro           iroberts@gmail.com   \n",
       "9995               838      JCB 15 digit       iscott@wade-garner.com   \n",
       "9996               207      JCB 16 digit           mary85@hotmail.com   \n",
       "9997                 1     VISA 16 digit            tyler16@gmail.com   \n",
       "9998               987  American Express      elizabethmoore@reid.net   \n",
       "9999               302      JCB 15 digit        rachelford@vaughn.com   \n",
       "\n",
       "                               Job       IP Address Language  Purchase Price  \n",
       "9990           Early years teacher     54.170.3.185       ru           18.35  \n",
       "9991         IT sales professional    254.25.31.156       el           25.93  \n",
       "9992                  Set designer    174.173.51.32       de           67.96  \n",
       "9993  Designer, exhibition/display    177.46.82.128       el           65.61  \n",
       "9994     Education officer, museum    242.44.112.18       zh           31.85  \n",
       "9995                    Printmaker    29.73.197.114       it           82.21  \n",
       "9996               Energy engineer   121.133.168.51       pt           25.63  \n",
       "9997            Veterinary surgeon    156.210.0.254       el           83.98  \n",
       "9998      Local government officer     55.78.26.143       es           38.84  \n",
       "9999        Embryologist, clinical  176.119.198.199       el           67.59  "
      ]
     },
     "execution_count": 4,
     "metadata": {},
     "output_type": "execute_result"
    }
   ],
   "source": [
    "df.tail(10)"
   ]
  },
  {
   "cell_type": "markdown",
   "id": "405a3748",
   "metadata": {
    "papermill": {
     "duration": 0.009662,
     "end_time": "2022-09-23T11:45:56.707715",
     "exception": false,
     "start_time": "2022-09-23T11:45:56.698053",
     "status": "completed"
    },
    "tags": []
   },
   "source": [
    "### 3. Data Type of each columns."
   ]
  },
  {
   "cell_type": "code",
   "execution_count": 5,
   "id": "3c1cf84d",
   "metadata": {
    "execution": {
     "iopub.execute_input": "2022-09-23T11:45:56.730540Z",
     "iopub.status.busy": "2022-09-23T11:45:56.730090Z",
     "iopub.status.idle": "2022-09-23T11:45:56.740177Z",
     "shell.execute_reply": "2022-09-23T11:45:56.738970Z"
    },
    "papermill": {
     "duration": 0.02454,
     "end_time": "2022-09-23T11:45:56.742859",
     "exception": false,
     "start_time": "2022-09-23T11:45:56.718319",
     "status": "completed"
    },
    "tags": []
   },
   "outputs": [
    {
     "data": {
      "text/plain": [
       "Address              object\n",
       "Lot                  object\n",
       "AM or PM             object\n",
       "Browser Info         object\n",
       "Company              object\n",
       "Credit Card           int64\n",
       "CC Exp Date          object\n",
       "CC Security Code      int64\n",
       "CC Provider          object\n",
       "Email                object\n",
       "Job                  object\n",
       "IP Address           object\n",
       "Language             object\n",
       "Purchase Price      float64\n",
       "dtype: object"
      ]
     },
     "execution_count": 5,
     "metadata": {},
     "output_type": "execute_result"
    }
   ],
   "source": [
    "df.dtypes #dtype nahi"
   ]
  },
  {
   "cell_type": "markdown",
   "id": "0de9b25a",
   "metadata": {
    "papermill": {
     "duration": 0.009676,
     "end_time": "2022-09-23T11:45:56.762159",
     "exception": false,
     "start_time": "2022-09-23T11:45:56.752483",
     "status": "completed"
    },
    "tags": []
   },
   "source": [
    "### 4. Checking null value count."
   ]
  },
  {
   "cell_type": "code",
   "execution_count": 6,
   "id": "29822ffe",
   "metadata": {
    "execution": {
     "iopub.execute_input": "2022-09-23T11:45:56.783233Z",
     "iopub.status.busy": "2022-09-23T11:45:56.782767Z",
     "iopub.status.idle": "2022-09-23T11:45:56.797051Z",
     "shell.execute_reply": "2022-09-23T11:45:56.796276Z"
    },
    "papermill": {
     "duration": 0.027264,
     "end_time": "2022-09-23T11:45:56.799099",
     "exception": false,
     "start_time": "2022-09-23T11:45:56.771835",
     "status": "completed"
    },
    "tags": []
   },
   "outputs": [
    {
     "data": {
      "text/plain": [
       "Address             0\n",
       "Lot                 0\n",
       "AM or PM            0\n",
       "Browser Info        0\n",
       "Company             0\n",
       "Credit Card         0\n",
       "CC Exp Date         0\n",
       "CC Security Code    0\n",
       "CC Provider         0\n",
       "Email               0\n",
       "Job                 0\n",
       "IP Address          0\n",
       "Language            0\n",
       "Purchase Price      0\n",
       "dtype: int64"
      ]
     },
     "execution_count": 6,
     "metadata": {},
     "output_type": "execute_result"
    }
   ],
   "source": [
    "df.isnull().sum()"
   ]
  },
  {
   "cell_type": "markdown",
   "id": "f51e2a84",
   "metadata": {
    "papermill": {
     "duration": 0.009382,
     "end_time": "2022-09-23T11:45:56.818247",
     "exception": false,
     "start_time": "2022-09-23T11:45:56.808865",
     "status": "completed"
    },
    "tags": []
   },
   "source": [
    "### 5. Total number of columns and rows."
   ]
  },
  {
   "cell_type": "code",
   "execution_count": 7,
   "id": "40605a1b",
   "metadata": {
    "execution": {
     "iopub.execute_input": "2022-09-23T11:45:56.839680Z",
     "iopub.status.busy": "2022-09-23T11:45:56.839241Z",
     "iopub.status.idle": "2022-09-23T11:45:56.846111Z",
     "shell.execute_reply": "2022-09-23T11:45:56.845265Z"
    },
    "papermill": {
     "duration": 0.020373,
     "end_time": "2022-09-23T11:45:56.848393",
     "exception": false,
     "start_time": "2022-09-23T11:45:56.828020",
     "status": "completed"
    },
    "tags": []
   },
   "outputs": [
    {
     "data": {
      "text/plain": [
       "Index(['Address', 'Lot', 'AM or PM', 'Browser Info', 'Company', 'Credit Card',\n",
       "       'CC Exp Date', 'CC Security Code', 'CC Provider', 'Email', 'Job',\n",
       "       'IP Address', 'Language', 'Purchase Price'],\n",
       "      dtype='object')"
      ]
     },
     "execution_count": 7,
     "metadata": {},
     "output_type": "execute_result"
    }
   ],
   "source": [
    "df.columns"
   ]
  },
  {
   "cell_type": "code",
   "execution_count": 8,
   "id": "d0998196",
   "metadata": {
    "execution": {
     "iopub.execute_input": "2022-09-23T11:45:56.870928Z",
     "iopub.status.busy": "2022-09-23T11:45:56.870473Z",
     "iopub.status.idle": "2022-09-23T11:45:56.880213Z",
     "shell.execute_reply": "2022-09-23T11:45:56.877043Z"
    },
    "papermill": {
     "duration": 0.025429,
     "end_time": "2022-09-23T11:45:56.884411",
     "exception": false,
     "start_time": "2022-09-23T11:45:56.858982",
     "status": "completed"
    },
    "tags": []
   },
   "outputs": [
    {
     "data": {
      "text/plain": [
       "14"
      ]
     },
     "execution_count": 8,
     "metadata": {},
     "output_type": "execute_result"
    }
   ],
   "source": [
    "len(df.columns) #columns"
   ]
  },
  {
   "cell_type": "code",
   "execution_count": 9,
   "id": "51fd562a",
   "metadata": {
    "execution": {
     "iopub.execute_input": "2022-09-23T11:45:56.910906Z",
     "iopub.status.busy": "2022-09-23T11:45:56.909489Z",
     "iopub.status.idle": "2022-09-23T11:45:56.919584Z",
     "shell.execute_reply": "2022-09-23T11:45:56.918619Z"
    },
    "papermill": {
     "duration": 0.02563,
     "end_time": "2022-09-23T11:45:56.923351",
     "exception": false,
     "start_time": "2022-09-23T11:45:56.897721",
     "status": "completed"
    },
    "tags": []
   },
   "outputs": [
    {
     "data": {
      "text/plain": [
       "10000"
      ]
     },
     "execution_count": 9,
     "metadata": {},
     "output_type": "execute_result"
    }
   ],
   "source": [
    "len(df) #rows"
   ]
  },
  {
   "cell_type": "code",
   "execution_count": 10,
   "id": "574ea87d",
   "metadata": {
    "execution": {
     "iopub.execute_input": "2022-09-23T11:45:56.951922Z",
     "iopub.status.busy": "2022-09-23T11:45:56.951214Z",
     "iopub.status.idle": "2022-09-23T11:45:56.988862Z",
     "shell.execute_reply": "2022-09-23T11:45:56.986665Z"
    },
    "papermill": {
     "duration": 0.053159,
     "end_time": "2022-09-23T11:45:56.992247",
     "exception": false,
     "start_time": "2022-09-23T11:45:56.939088",
     "status": "completed"
    },
    "tags": []
   },
   "outputs": [
    {
     "name": "stdout",
     "output_type": "stream",
     "text": [
      "<class 'pandas.core.frame.DataFrame'>\n",
      "RangeIndex: 10000 entries, 0 to 9999\n",
      "Data columns (total 14 columns):\n",
      " #   Column            Non-Null Count  Dtype  \n",
      "---  ------            --------------  -----  \n",
      " 0   Address           10000 non-null  object \n",
      " 1   Lot               10000 non-null  object \n",
      " 2   AM or PM          10000 non-null  object \n",
      " 3   Browser Info      10000 non-null  object \n",
      " 4   Company           10000 non-null  object \n",
      " 5   Credit Card       10000 non-null  int64  \n",
      " 6   CC Exp Date       10000 non-null  object \n",
      " 7   CC Security Code  10000 non-null  int64  \n",
      " 8   CC Provider       10000 non-null  object \n",
      " 9   Email             10000 non-null  object \n",
      " 10  Job               10000 non-null  object \n",
      " 11  IP Address        10000 non-null  object \n",
      " 12  Language          10000 non-null  object \n",
      " 13  Purchase Price    10000 non-null  float64\n",
      "dtypes: float64(1), int64(2), object(11)\n",
      "memory usage: 1.1+ MB\n"
     ]
    }
   ],
   "source": [
    "df.info()"
   ]
  },
  {
   "cell_type": "code",
   "execution_count": 11,
   "id": "cdf75266",
   "metadata": {
    "execution": {
     "iopub.execute_input": "2022-09-23T11:45:57.017808Z",
     "iopub.status.busy": "2022-09-23T11:45:57.017039Z",
     "iopub.status.idle": "2022-09-23T11:45:57.026128Z",
     "shell.execute_reply": "2022-09-23T11:45:57.024804Z"
    },
    "papermill": {
     "duration": 0.024676,
     "end_time": "2022-09-23T11:45:57.028747",
     "exception": false,
     "start_time": "2022-09-23T11:45:57.004071",
     "status": "completed"
    },
    "tags": []
   },
   "outputs": [
    {
     "data": {
      "text/plain": [
       "Index(['Address', 'Lot', 'AM or PM', 'Browser Info', 'Company', 'Credit Card',\n",
       "       'CC Exp Date', 'CC Security Code', 'CC Provider', 'Email', 'Job',\n",
       "       'IP Address', 'Language', 'Purchase Price'],\n",
       "      dtype='object')"
      ]
     },
     "execution_count": 11,
     "metadata": {},
     "output_type": "execute_result"
    }
   ],
   "source": [
    "df.columns"
   ]
  },
  {
   "cell_type": "markdown",
   "id": "7dbb6acc",
   "metadata": {
    "papermill": {
     "duration": 0.011102,
     "end_time": "2022-09-23T11:45:57.050800",
     "exception": false,
     "start_time": "2022-09-23T11:45:57.039698",
     "status": "completed"
    },
    "tags": []
   },
   "source": [
    "### 6. Highest purchase price."
   ]
  },
  {
   "cell_type": "code",
   "execution_count": 12,
   "id": "9a1f8087",
   "metadata": {
    "execution": {
     "iopub.execute_input": "2022-09-23T11:45:57.074071Z",
     "iopub.status.busy": "2022-09-23T11:45:57.073660Z",
     "iopub.status.idle": "2022-09-23T11:45:57.081144Z",
     "shell.execute_reply": "2022-09-23T11:45:57.079816Z"
    },
    "papermill": {
     "duration": 0.022081,
     "end_time": "2022-09-23T11:45:57.083787",
     "exception": false,
     "start_time": "2022-09-23T11:45:57.061706",
     "status": "completed"
    },
    "tags": []
   },
   "outputs": [
    {
     "data": {
      "text/plain": [
       "99.99"
      ]
     },
     "execution_count": 12,
     "metadata": {},
     "output_type": "execute_result"
    }
   ],
   "source": [
    "df[\"Purchase Price\"].max()"
   ]
  },
  {
   "cell_type": "markdown",
   "id": "8a9d7fd6",
   "metadata": {
    "papermill": {
     "duration": 0.011381,
     "end_time": "2022-09-23T11:45:57.106008",
     "exception": false,
     "start_time": "2022-09-23T11:45:57.094627",
     "status": "completed"
    },
    "tags": []
   },
   "source": [
    "### 7. Lowest purchase price"
   ]
  },
  {
   "cell_type": "code",
   "execution_count": 13,
   "id": "f19b774f",
   "metadata": {
    "execution": {
     "iopub.execute_input": "2022-09-23T11:45:57.131388Z",
     "iopub.status.busy": "2022-09-23T11:45:57.130916Z",
     "iopub.status.idle": "2022-09-23T11:45:57.140458Z",
     "shell.execute_reply": "2022-09-23T11:45:57.139120Z"
    },
    "papermill": {
     "duration": 0.026191,
     "end_time": "2022-09-23T11:45:57.143807",
     "exception": false,
     "start_time": "2022-09-23T11:45:57.117616",
     "status": "completed"
    },
    "tags": []
   },
   "outputs": [
    {
     "data": {
      "text/plain": [
       "0.0"
      ]
     },
     "execution_count": 13,
     "metadata": {},
     "output_type": "execute_result"
    }
   ],
   "source": [
    "df[\"Purchase Price\"].min()"
   ]
  },
  {
   "cell_type": "code",
   "execution_count": 14,
   "id": "78dddf7f",
   "metadata": {
    "execution": {
     "iopub.execute_input": "2022-09-23T11:45:57.167439Z",
     "iopub.status.busy": "2022-09-23T11:45:57.167039Z",
     "iopub.status.idle": "2022-09-23T11:45:57.176827Z",
     "shell.execute_reply": "2022-09-23T11:45:57.175352Z"
    },
    "papermill": {
     "duration": 0.024727,
     "end_time": "2022-09-23T11:45:57.179591",
     "exception": false,
     "start_time": "2022-09-23T11:45:57.154864",
     "status": "completed"
    },
    "tags": []
   },
   "outputs": [
    {
     "data": {
      "text/plain": [
       "50.347302"
      ]
     },
     "execution_count": 14,
     "metadata": {},
     "output_type": "execute_result"
    }
   ],
   "source": [
    "df[\"Purchase Price\"].mean()"
   ]
  },
  {
   "cell_type": "code",
   "execution_count": 15,
   "id": "c379cf21",
   "metadata": {
    "execution": {
     "iopub.execute_input": "2022-09-23T11:45:57.204594Z",
     "iopub.status.busy": "2022-09-23T11:45:57.204154Z",
     "iopub.status.idle": "2022-09-23T11:45:57.212602Z",
     "shell.execute_reply": "2022-09-23T11:45:57.210594Z"
    },
    "papermill": {
     "duration": 0.024883,
     "end_time": "2022-09-23T11:45:57.216041",
     "exception": false,
     "start_time": "2022-09-23T11:45:57.191158",
     "status": "completed"
    },
    "tags": []
   },
   "outputs": [
    {
     "data": {
      "text/plain": [
       "Index(['Address', 'Lot', 'AM or PM', 'Browser Info', 'Company', 'Credit Card',\n",
       "       'CC Exp Date', 'CC Security Code', 'CC Provider', 'Email', 'Job',\n",
       "       'IP Address', 'Language', 'Purchase Price'],\n",
       "      dtype='object')"
      ]
     },
     "execution_count": 15,
     "metadata": {},
     "output_type": "execute_result"
    }
   ],
   "source": [
    "df.columns"
   ]
  },
  {
   "cell_type": "markdown",
   "id": "6a337f46",
   "metadata": {
    "papermill": {
     "duration": 0.010685,
     "end_time": "2022-09-23T11:45:57.239166",
     "exception": false,
     "start_time": "2022-09-23T11:45:57.228481",
     "status": "completed"
    },
    "tags": []
   },
   "source": [
    "### 8. Number of French speaking people"
   ]
  },
  {
   "cell_type": "code",
   "execution_count": 16,
   "id": "1ad76a98",
   "metadata": {
    "execution": {
     "iopub.execute_input": "2022-09-23T11:45:57.263237Z",
     "iopub.status.busy": "2022-09-23T11:45:57.262845Z",
     "iopub.status.idle": "2022-09-23T11:45:57.273407Z",
     "shell.execute_reply": "2022-09-23T11:45:57.272333Z"
    },
    "papermill": {
     "duration": 0.025654,
     "end_time": "2022-09-23T11:45:57.275872",
     "exception": false,
     "start_time": "2022-09-23T11:45:57.250218",
     "status": "completed"
    },
    "tags": []
   },
   "outputs": [
    {
     "data": {
      "text/plain": [
       "1097"
      ]
     },
     "execution_count": 16,
     "metadata": {},
     "output_type": "execute_result"
    }
   ],
   "source": [
    "len(df[df[\"Language\"] == \"fr\"])"
   ]
  },
  {
   "cell_type": "code",
   "execution_count": 17,
   "id": "104d6aae",
   "metadata": {
    "execution": {
     "iopub.execute_input": "2022-09-23T11:45:57.301202Z",
     "iopub.status.busy": "2022-09-23T11:45:57.300729Z",
     "iopub.status.idle": "2022-09-23T11:45:57.316224Z",
     "shell.execute_reply": "2022-09-23T11:45:57.315300Z"
    },
    "papermill": {
     "duration": 0.031038,
     "end_time": "2022-09-23T11:45:57.318480",
     "exception": false,
     "start_time": "2022-09-23T11:45:57.287442",
     "status": "completed"
    },
    "tags": []
   },
   "outputs": [
    {
     "data": {
      "text/plain": [
       "Address             1097\n",
       "Lot                 1097\n",
       "AM or PM            1097\n",
       "Browser Info        1097\n",
       "Company             1097\n",
       "Credit Card         1097\n",
       "CC Exp Date         1097\n",
       "CC Security Code    1097\n",
       "CC Provider         1097\n",
       "Email               1097\n",
       "Job                 1097\n",
       "IP Address          1097\n",
       "Language            1097\n",
       "Purchase Price      1097\n",
       "dtype: int64"
      ]
     },
     "execution_count": 17,
     "metadata": {},
     "output_type": "execute_result"
    }
   ],
   "source": [
    "df[df[\"Language\"] == \"fr\"].count()"
   ]
  },
  {
   "cell_type": "code",
   "execution_count": 18,
   "id": "31bd8cc3",
   "metadata": {
    "execution": {
     "iopub.execute_input": "2022-09-23T11:45:57.344348Z",
     "iopub.status.busy": "2022-09-23T11:45:57.343893Z",
     "iopub.status.idle": "2022-09-23T11:45:57.357758Z",
     "shell.execute_reply": "2022-09-23T11:45:57.354961Z"
    },
    "papermill": {
     "duration": 0.031731,
     "end_time": "2022-09-23T11:45:57.362199",
     "exception": false,
     "start_time": "2022-09-23T11:45:57.330468",
     "status": "completed"
    },
    "tags": []
   },
   "outputs": [
    {
     "data": {
      "text/plain": [
       "1097"
      ]
     },
     "execution_count": 18,
     "metadata": {},
     "output_type": "execute_result"
    }
   ],
   "source": [
    "df[df[\"Language\"] == \"fr\"][\"Language\"].count()"
   ]
  },
  {
   "cell_type": "markdown",
   "id": "1051972b",
   "metadata": {
    "papermill": {
     "duration": 0.013635,
     "end_time": "2022-09-23T11:45:57.390282",
     "exception": false,
     "start_time": "2022-09-23T11:45:57.376647",
     "status": "completed"
    },
    "tags": []
   },
   "source": [
    "### 9. Total number of people having engineering background."
   ]
  },
  {
   "cell_type": "code",
   "execution_count": 19,
   "id": "1eac2767",
   "metadata": {
    "execution": {
     "iopub.execute_input": "2022-09-23T11:45:57.421481Z",
     "iopub.status.busy": "2022-09-23T11:45:57.420015Z",
     "iopub.status.idle": "2022-09-23T11:45:57.428923Z",
     "shell.execute_reply": "2022-09-23T11:45:57.427766Z"
    },
    "papermill": {
     "duration": 0.027797,
     "end_time": "2022-09-23T11:45:57.431760",
     "exception": false,
     "start_time": "2022-09-23T11:45:57.403963",
     "status": "completed"
    },
    "tags": []
   },
   "outputs": [
    {
     "data": {
      "text/plain": [
       "Index(['Address', 'Lot', 'AM or PM', 'Browser Info', 'Company', 'Credit Card',\n",
       "       'CC Exp Date', 'CC Security Code', 'CC Provider', 'Email', 'Job',\n",
       "       'IP Address', 'Language', 'Purchase Price'],\n",
       "      dtype='object')"
      ]
     },
     "execution_count": 19,
     "metadata": {},
     "output_type": "execute_result"
    }
   ],
   "source": [
    "df.columns"
   ]
  },
  {
   "cell_type": "code",
   "execution_count": 20,
   "id": "d9cdbd58",
   "metadata": {
    "execution": {
     "iopub.execute_input": "2022-09-23T11:45:57.461740Z",
     "iopub.status.busy": "2022-09-23T11:45:57.461293Z",
     "iopub.status.idle": "2022-09-23T11:45:57.483007Z",
     "shell.execute_reply": "2022-09-23T11:45:57.480935Z"
    },
    "papermill": {
     "duration": 0.039354,
     "end_time": "2022-09-23T11:45:57.486285",
     "exception": false,
     "start_time": "2022-09-23T11:45:57.446931",
     "status": "completed"
    },
    "tags": []
   },
   "outputs": [
    {
     "data": {
      "text/plain": [
       "984"
      ]
     },
     "execution_count": 20,
     "metadata": {},
     "output_type": "execute_result"
    }
   ],
   "source": [
    "len(df[df.Job.str.contains(\"engineer\",case = False)])"
   ]
  },
  {
   "cell_type": "markdown",
   "id": "9e389095",
   "metadata": {
    "papermill": {
     "duration": 0.01223,
     "end_time": "2022-09-23T11:45:57.511345",
     "exception": false,
     "start_time": "2022-09-23T11:45:57.499115",
     "status": "completed"
    },
    "tags": []
   },
   "source": [
    "### 10. Email of a person having IP Address 132.207.160.22"
   ]
  },
  {
   "cell_type": "code",
   "execution_count": 21,
   "id": "a774a267",
   "metadata": {
    "execution": {
     "iopub.execute_input": "2022-09-23T11:45:57.539528Z",
     "iopub.status.busy": "2022-09-23T11:45:57.539092Z",
     "iopub.status.idle": "2022-09-23T11:45:57.546803Z",
     "shell.execute_reply": "2022-09-23T11:45:57.545478Z"
    },
    "papermill": {
     "duration": 0.025154,
     "end_time": "2022-09-23T11:45:57.549550",
     "exception": false,
     "start_time": "2022-09-23T11:45:57.524396",
     "status": "completed"
    },
    "tags": []
   },
   "outputs": [
    {
     "data": {
      "text/plain": [
       "Index(['Address', 'Lot', 'AM or PM', 'Browser Info', 'Company', 'Credit Card',\n",
       "       'CC Exp Date', 'CC Security Code', 'CC Provider', 'Email', 'Job',\n",
       "       'IP Address', 'Language', 'Purchase Price'],\n",
       "      dtype='object')"
      ]
     },
     "execution_count": 21,
     "metadata": {},
     "output_type": "execute_result"
    }
   ],
   "source": [
    "df.columns"
   ]
  },
  {
   "cell_type": "code",
   "execution_count": 22,
   "id": "d4347167",
   "metadata": {
    "execution": {
     "iopub.execute_input": "2022-09-23T11:45:57.579904Z",
     "iopub.status.busy": "2022-09-23T11:45:57.578638Z",
     "iopub.status.idle": "2022-09-23T11:45:57.589490Z",
     "shell.execute_reply": "2022-09-23T11:45:57.588072Z"
    },
    "papermill": {
     "duration": 0.02887,
     "end_time": "2022-09-23T11:45:57.592368",
     "exception": false,
     "start_time": "2022-09-23T11:45:57.563498",
     "status": "completed"
    },
    "tags": []
   },
   "outputs": [
    {
     "data": {
      "text/plain": [
       "2    amymiller@morales-harrison.com\n",
       "Name: Email, dtype: object"
      ]
     },
     "execution_count": 22,
     "metadata": {},
     "output_type": "execute_result"
    }
   ],
   "source": [
    "df[df[\"IP Address\"] == \"132.207.160.22\"].Email"
   ]
  },
  {
   "cell_type": "markdown",
   "id": "0e71dd9a",
   "metadata": {
    "papermill": {
     "duration": 0.012683,
     "end_time": "2022-09-23T11:45:57.617680",
     "exception": false,
     "start_time": "2022-09-23T11:45:57.604997",
     "status": "completed"
    },
    "tags": []
   },
   "source": [
    "### 11. People having cc as master card and purchase above 50"
   ]
  },
  {
   "cell_type": "code",
   "execution_count": 23,
   "id": "7ae7f2ff",
   "metadata": {
    "execution": {
     "iopub.execute_input": "2022-09-23T11:45:57.644462Z",
     "iopub.status.busy": "2022-09-23T11:45:57.643405Z",
     "iopub.status.idle": "2022-09-23T11:45:57.651796Z",
     "shell.execute_reply": "2022-09-23T11:45:57.650548Z"
    },
    "papermill": {
     "duration": 0.024784,
     "end_time": "2022-09-23T11:45:57.654740",
     "exception": false,
     "start_time": "2022-09-23T11:45:57.629956",
     "status": "completed"
    },
    "tags": []
   },
   "outputs": [
    {
     "data": {
      "text/plain": [
       "Index(['Address', 'Lot', 'AM or PM', 'Browser Info', 'Company', 'Credit Card',\n",
       "       'CC Exp Date', 'CC Security Code', 'CC Provider', 'Email', 'Job',\n",
       "       'IP Address', 'Language', 'Purchase Price'],\n",
       "      dtype='object')"
      ]
     },
     "execution_count": 23,
     "metadata": {},
     "output_type": "execute_result"
    }
   ],
   "source": [
    "df.columns"
   ]
  },
  {
   "cell_type": "code",
   "execution_count": 24,
   "id": "b0776a3d",
   "metadata": {
    "execution": {
     "iopub.execute_input": "2022-09-23T11:45:57.682778Z",
     "iopub.status.busy": "2022-09-23T11:45:57.682290Z",
     "iopub.status.idle": "2022-09-23T11:45:57.697872Z",
     "shell.execute_reply": "2022-09-23T11:45:57.696388Z"
    },
    "papermill": {
     "duration": 0.033033,
     "end_time": "2022-09-23T11:45:57.700770",
     "exception": false,
     "start_time": "2022-09-23T11:45:57.667737",
     "status": "completed"
    },
    "tags": []
   },
   "outputs": [
    {
     "data": {
      "text/plain": [
       "Address             405\n",
       "Lot                 405\n",
       "AM or PM            405\n",
       "Browser Info        405\n",
       "Company             405\n",
       "Credit Card         405\n",
       "CC Exp Date         405\n",
       "CC Security Code    405\n",
       "CC Provider         405\n",
       "Email               405\n",
       "Job                 405\n",
       "IP Address          405\n",
       "Language            405\n",
       "Purchase Price      405\n",
       "dtype: int64"
      ]
     },
     "execution_count": 24,
     "metadata": {},
     "output_type": "execute_result"
    }
   ],
   "source": [
    "df[(df[\"CC Provider\"] == \"Mastercard\") & (df[\"Purchase Price\"]>50)].count()"
   ]
  },
  {
   "cell_type": "markdown",
   "id": "bd1fd8fd",
   "metadata": {
    "papermill": {
     "duration": 0.01213,
     "end_time": "2022-09-23T11:45:57.725993",
     "exception": false,
     "start_time": "2022-09-23T11:45:57.713863",
     "status": "completed"
    },
    "tags": []
   },
   "source": [
    "### 12. Find the email of a Person having cc no. as 4664825258997302"
   ]
  },
  {
   "cell_type": "code",
   "execution_count": 25,
   "id": "b44639c9",
   "metadata": {
    "execution": {
     "iopub.execute_input": "2022-09-23T11:45:57.755775Z",
     "iopub.status.busy": "2022-09-23T11:45:57.755335Z",
     "iopub.status.idle": "2022-09-23T11:45:57.763649Z",
     "shell.execute_reply": "2022-09-23T11:45:57.762300Z"
    },
    "papermill": {
     "duration": 0.026023,
     "end_time": "2022-09-23T11:45:57.766498",
     "exception": false,
     "start_time": "2022-09-23T11:45:57.740475",
     "status": "completed"
    },
    "tags": []
   },
   "outputs": [
    {
     "data": {
      "text/plain": [
       "Index(['Address', 'Lot', 'AM or PM', 'Browser Info', 'Company', 'Credit Card',\n",
       "       'CC Exp Date', 'CC Security Code', 'CC Provider', 'Email', 'Job',\n",
       "       'IP Address', 'Language', 'Purchase Price'],\n",
       "      dtype='object')"
      ]
     },
     "execution_count": 25,
     "metadata": {},
     "output_type": "execute_result"
    }
   ],
   "source": [
    "df.columns"
   ]
  },
  {
   "cell_type": "code",
   "execution_count": 26,
   "id": "4be1dbd6",
   "metadata": {
    "execution": {
     "iopub.execute_input": "2022-09-23T11:45:57.794916Z",
     "iopub.status.busy": "2022-09-23T11:45:57.794497Z",
     "iopub.status.idle": "2022-09-23T11:45:57.803818Z",
     "shell.execute_reply": "2022-09-23T11:45:57.802636Z"
    },
    "papermill": {
     "duration": 0.026987,
     "end_time": "2022-09-23T11:45:57.806736",
     "exception": false,
     "start_time": "2022-09-23T11:45:57.779749",
     "status": "completed"
    },
    "tags": []
   },
   "outputs": [
    {
     "data": {
      "text/plain": [
       "9992    bberry@wright.net\n",
       "Name: Email, dtype: object"
      ]
     },
     "execution_count": 26,
     "metadata": {},
     "output_type": "execute_result"
    }
   ],
   "source": [
    "df[df[\"Credit Card\"] == 4664825258997302].Email"
   ]
  },
  {
   "cell_type": "markdown",
   "id": "e77a1f89",
   "metadata": {
    "papermill": {
     "duration": 0.012743,
     "end_time": "2022-09-23T11:45:57.832894",
     "exception": false,
     "start_time": "2022-09-23T11:45:57.820151",
     "status": "completed"
    },
    "tags": []
   },
   "source": [
    "### 13. How many people purchase in AM and PM respectively."
   ]
  },
  {
   "cell_type": "code",
   "execution_count": 27,
   "id": "79f0266f",
   "metadata": {
    "execution": {
     "iopub.execute_input": "2022-09-23T11:45:57.863109Z",
     "iopub.status.busy": "2022-09-23T11:45:57.862703Z",
     "iopub.status.idle": "2022-09-23T11:45:57.872047Z",
     "shell.execute_reply": "2022-09-23T11:45:57.870815Z"
    },
    "papermill": {
     "duration": 0.02879,
     "end_time": "2022-09-23T11:45:57.874962",
     "exception": false,
     "start_time": "2022-09-23T11:45:57.846172",
     "status": "completed"
    },
    "tags": []
   },
   "outputs": [
    {
     "data": {
      "text/plain": [
       "PM    5068\n",
       "AM    4932\n",
       "Name: AM or PM, dtype: int64"
      ]
     },
     "execution_count": 27,
     "metadata": {},
     "output_type": "execute_result"
    }
   ],
   "source": [
    "df[\"AM or PM\"].value_counts()"
   ]
  },
  {
   "cell_type": "markdown",
   "id": "4bedf7fd",
   "metadata": {
    "papermill": {
     "duration": 0.012519,
     "end_time": "2022-09-23T11:45:57.901143",
     "exception": false,
     "start_time": "2022-09-23T11:45:57.888624",
     "status": "completed"
    },
    "tags": []
   },
   "source": [
    "### 14.How many people have cc that expires in 2020."
   ]
  },
  {
   "cell_type": "code",
   "execution_count": 28,
   "id": "4e40e2cc",
   "metadata": {
    "execution": {
     "iopub.execute_input": "2022-09-23T11:45:57.929491Z",
     "iopub.status.busy": "2022-09-23T11:45:57.929086Z",
     "iopub.status.idle": "2022-09-23T11:45:57.935338Z",
     "shell.execute_reply": "2022-09-23T11:45:57.934486Z"
    },
    "papermill": {
     "duration": 0.02356,
     "end_time": "2022-09-23T11:45:57.937625",
     "exception": false,
     "start_time": "2022-09-23T11:45:57.914065",
     "status": "completed"
    },
    "tags": []
   },
   "outputs": [
    {
     "data": {
      "text/plain": [
       "Index(['Address', 'Lot', 'AM or PM', 'Browser Info', 'Company', 'Credit Card',\n",
       "       'CC Exp Date', 'CC Security Code', 'CC Provider', 'Email', 'Job',\n",
       "       'IP Address', 'Language', 'Purchase Price'],\n",
       "      dtype='object')"
      ]
     },
     "execution_count": 28,
     "metadata": {},
     "output_type": "execute_result"
    }
   ],
   "source": [
    "df.columns"
   ]
  },
  {
   "cell_type": "code",
   "execution_count": 29,
   "id": "35371577",
   "metadata": {
    "execution": {
     "iopub.execute_input": "2022-09-23T11:45:57.965236Z",
     "iopub.status.busy": "2022-09-23T11:45:57.964810Z",
     "iopub.status.idle": "2022-09-23T11:45:57.978741Z",
     "shell.execute_reply": "2022-09-23T11:45:57.977580Z"
    },
    "papermill": {
     "duration": 0.030514,
     "end_time": "2022-09-23T11:45:57.981127",
     "exception": false,
     "start_time": "2022-09-23T11:45:57.950613",
     "status": "completed"
    },
    "tags": []
   },
   "outputs": [
    {
     "data": {
      "text/plain": [
       "988"
      ]
     },
     "execution_count": 29,
     "metadata": {},
     "output_type": "execute_result"
    }
   ],
   "source": [
    "len(df[df[\"CC Exp Date\"].apply(lambda x : x[3:]) == \"20\"])"
   ]
  },
  {
   "cell_type": "markdown",
   "id": "4d7c9e49",
   "metadata": {
    "papermill": {
     "duration": 0.013671,
     "end_time": "2022-09-23T11:45:58.008505",
     "exception": false,
     "start_time": "2022-09-23T11:45:57.994834",
     "status": "completed"
    },
    "tags": []
   },
   "source": [
    "### 15. Top 5 popular email provider ?"
   ]
  },
  {
   "cell_type": "code",
   "execution_count": 30,
   "id": "33a2295f",
   "metadata": {
    "execution": {
     "iopub.execute_input": "2022-09-23T11:45:58.037222Z",
     "iopub.status.busy": "2022-09-23T11:45:58.036811Z",
     "iopub.status.idle": "2022-09-23T11:45:58.044391Z",
     "shell.execute_reply": "2022-09-23T11:45:58.043135Z"
    },
    "papermill": {
     "duration": 0.02479,
     "end_time": "2022-09-23T11:45:58.047096",
     "exception": false,
     "start_time": "2022-09-23T11:45:58.022306",
     "status": "completed"
    },
    "tags": []
   },
   "outputs": [
    {
     "data": {
      "text/plain": [
       "Index(['Address', 'Lot', 'AM or PM', 'Browser Info', 'Company', 'Credit Card',\n",
       "       'CC Exp Date', 'CC Security Code', 'CC Provider', 'Email', 'Job',\n",
       "       'IP Address', 'Language', 'Purchase Price'],\n",
       "      dtype='object')"
      ]
     },
     "execution_count": 30,
     "metadata": {},
     "output_type": "execute_result"
    }
   ],
   "source": [
    "df.columns"
   ]
  },
  {
   "cell_type": "code",
   "execution_count": 31,
   "id": "cdceb9dc",
   "metadata": {
    "execution": {
     "iopub.execute_input": "2022-09-23T11:45:58.075834Z",
     "iopub.status.busy": "2022-09-23T11:45:58.075176Z",
     "iopub.status.idle": "2022-09-23T11:45:58.092495Z",
     "shell.execute_reply": "2022-09-23T11:45:58.091417Z"
    },
    "papermill": {
     "duration": 0.034514,
     "end_time": "2022-09-23T11:45:58.095022",
     "exception": false,
     "start_time": "2022-09-23T11:45:58.060508",
     "status": "completed"
    },
    "tags": []
   },
   "outputs": [
    {
     "data": {
      "text/plain": [
       "hotmail.com     1638\n",
       "yahoo.com       1616\n",
       "gmail.com       1605\n",
       "smith.com         42\n",
       "williams.com      37\n",
       "Name: Email, dtype: int64"
      ]
     },
     "execution_count": 31,
     "metadata": {},
     "output_type": "execute_result"
    }
   ],
   "source": [
    "df[\"Email\"].apply(lambda x : x.split(\"@\")[1]).value_counts().head(5)"
   ]
  },
  {
   "cell_type": "code",
   "execution_count": null,
   "id": "c504e6fe",
   "metadata": {
    "papermill": {
     "duration": 0.013456,
     "end_time": "2022-09-23T11:45:58.123199",
     "exception": false,
     "start_time": "2022-09-23T11:45:58.109743",
     "status": "completed"
    },
    "tags": []
   },
   "outputs": [],
   "source": []
  }
 ],
 "metadata": {
  "kernelspec": {
   "display_name": "Python 3",
   "language": "python",
   "name": "python3"
  },
  "language_info": {
   "codemirror_mode": {
    "name": "ipython",
    "version": 3
   },
   "file_extension": ".py",
   "mimetype": "text/x-python",
   "name": "python",
   "nbconvert_exporter": "python",
   "pygments_lexer": "ipython3",
   "version": "3.7.12"
  },
  "papermill": {
   "default_parameters": {},
   "duration": 12.297655,
   "end_time": "2022-09-23T11:45:58.960844",
   "environment_variables": {},
   "exception": null,
   "input_path": "__notebook__.ipynb",
   "output_path": "__notebook__.ipynb",
   "parameters": {},
   "start_time": "2022-09-23T11:45:46.663189",
   "version": "2.3.4"
  }
 },
 "nbformat": 4,
 "nbformat_minor": 5
}
